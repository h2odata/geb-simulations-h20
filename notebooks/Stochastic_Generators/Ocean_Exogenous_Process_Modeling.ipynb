{
 "cells": [
  {
   "cell_type": "markdown",
   "metadata": {},
   "source": [
    "# Exogenous Process modeling \n",
    "\n",
    "## ocean price stochastic process\n",
    "\n",
    "1. Acquire time series of tick-by-tick (or as-close-as) data for ocean price e.g. 2017-2020, e.g. [Kaggle Hourly Dataset](https://www.kaggle.com/prasoonkottarathil/oceanereum-historical-dataset)\n",
    "2. Fit a parametric distribution to the price of ocean, gamma + Kalman fit (prediction) resulting in a distribution $F^p_{ocean}(t; \\mu_{ocean})$ and fitted parameters $\\mu_{ocean}$."
   ]
  },
  {
   "cell_type": "code",
   "execution_count": 7,
   "metadata": {},
   "outputs": [],
   "source": [
    "# import libraries\n",
    "import pandas as pd\n",
    "import numpy as np\n",
    "from scipy.stats import gamma\n",
    "from sklearn.metrics import mean_squared_error\n",
    "import matplotlib.pyplot as plt\n",
    "from math import sqrt\n",
    "\n",
    "%matplotlib inline"
   ]
  },
  {
   "cell_type": "markdown",
   "metadata": {},
   "source": [
    "## Data preprocessing"
   ]
  },
  {
   "cell_type": "code",
   "execution_count": 8,
   "metadata": {},
   "outputs": [
    {
     "data": {
      "text/html": [
       "<div>\n",
       "<style scoped>\n",
       "    .dataframe tbody tr th:only-of-type {\n",
       "        vertical-align: middle;\n",
       "    }\n",
       "\n",
       "    .dataframe tbody tr th {\n",
       "        vertical-align: top;\n",
       "    }\n",
       "\n",
       "    .dataframe thead th {\n",
       "        text-align: right;\n",
       "    }\n",
       "</style>\n",
       "<table border=\"1\" class=\"dataframe\">\n",
       "  <thead>\n",
       "    <tr style=\"text-align: right;\">\n",
       "      <th></th>\n",
       "      <th>dateTime</th>\n",
       "      <th>open</th>\n",
       "      <th>high</th>\n",
       "      <th>low</th>\n",
       "      <th>close</th>\n",
       "      <th>volume</th>\n",
       "      <th>date</th>\n",
       "    </tr>\n",
       "  </thead>\n",
       "  <tbody>\n",
       "    <tr>\n",
       "      <th>0</th>\n",
       "      <td>1597824000000</td>\n",
       "      <td>0.5101</td>\n",
       "      <td>0.7200</td>\n",
       "      <td>0.5101</td>\n",
       "      <td>0.5627</td>\n",
       "      <td>610631.57</td>\n",
       "      <td>2020-08-19 15:00:00</td>\n",
       "    </tr>\n",
       "    <tr>\n",
       "      <th>1</th>\n",
       "      <td>1597827600000</td>\n",
       "      <td>0.5627</td>\n",
       "      <td>0.5699</td>\n",
       "      <td>0.5444</td>\n",
       "      <td>0.5494</td>\n",
       "      <td>193218.86</td>\n",
       "      <td>2020-08-19 16:00:00</td>\n",
       "    </tr>\n",
       "    <tr>\n",
       "      <th>2</th>\n",
       "      <td>1597831200000</td>\n",
       "      <td>0.5475</td>\n",
       "      <td>0.5536</td>\n",
       "      <td>0.5264</td>\n",
       "      <td>0.5264</td>\n",
       "      <td>105476.72</td>\n",
       "      <td>2020-08-19 17:00:00</td>\n",
       "    </tr>\n",
       "    <tr>\n",
       "      <th>3</th>\n",
       "      <td>1597834800000</td>\n",
       "      <td>0.5309</td>\n",
       "      <td>0.5720</td>\n",
       "      <td>0.5297</td>\n",
       "      <td>0.5449</td>\n",
       "      <td>178364.57</td>\n",
       "      <td>2020-08-19 18:00:00</td>\n",
       "    </tr>\n",
       "    <tr>\n",
       "      <th>4</th>\n",
       "      <td>1597838400000</td>\n",
       "      <td>0.5449</td>\n",
       "      <td>0.5899</td>\n",
       "      <td>0.5432</td>\n",
       "      <td>0.5751</td>\n",
       "      <td>190086.86</td>\n",
       "      <td>2020-08-19 19:00:00</td>\n",
       "    </tr>\n",
       "  </tbody>\n",
       "</table>\n",
       "</div>"
      ],
      "text/plain": [
       "        dateTime    open    high     low   close     volume  \\\n",
       "0  1597824000000  0.5101  0.7200  0.5101  0.5627  610631.57   \n",
       "1  1597827600000  0.5627  0.5699  0.5444  0.5494  193218.86   \n",
       "2  1597831200000  0.5475  0.5536  0.5264  0.5264  105476.72   \n",
       "3  1597834800000  0.5309  0.5720  0.5297  0.5449  178364.57   \n",
       "4  1597838400000  0.5449  0.5899  0.5432  0.5751  190086.86   \n",
       "\n",
       "                  date  \n",
       "0  2020-08-19 15:00:00  \n",
       "1  2020-08-19 16:00:00  \n",
       "2  2020-08-19 17:00:00  \n",
       "3  2020-08-19 18:00:00  \n",
       "4  2020-08-19 19:00:00  "
      ]
     },
     "execution_count": 8,
     "metadata": {},
     "output_type": "execute_result"
    }
   ],
   "source": [
    "# import data\n",
    "historical_ocean_hourly = pd.read_csv('data/OCEAN_1H.csv')\n",
    "historical_ocean_hourly.head(5)"
   ]
  },
  {
   "cell_type": "code",
   "execution_count": 9,
   "metadata": {},
   "outputs": [],
   "source": [
    "historical_ocean_hourly['Date'] = pd.to_datetime(historical_ocean_hourly['date'])\n",
    "historical_ocean_hourly = historical_ocean_hourly[historical_ocean_hourly['Date']>'2017-01-01']"
   ]
  },
  {
   "cell_type": "code",
   "execution_count": 10,
   "metadata": {},
   "outputs": [],
   "source": [
    "# sort by date from earliest to latest\n",
    "sorted_historical_ocean_hourly = historical_ocean_hourly.sort_values(by='Date')"
   ]
  },
  {
   "cell_type": "code",
   "execution_count": 11,
   "metadata": {},
   "outputs": [],
   "source": [
    "# split into training and test data. \n",
    "train, test= np.split(sorted_historical_ocean_hourly, [int(.9 *len(sorted_historical_ocean_hourly))])"
   ]
  },
  {
   "cell_type": "code",
   "execution_count": 12,
   "metadata": {},
   "outputs": [
    {
     "data": {
      "text/html": [
       "<div>\n",
       "<style scoped>\n",
       "    .dataframe tbody tr th:only-of-type {\n",
       "        vertical-align: middle;\n",
       "    }\n",
       "\n",
       "    .dataframe tbody tr th {\n",
       "        vertical-align: top;\n",
       "    }\n",
       "\n",
       "    .dataframe thead th {\n",
       "        text-align: right;\n",
       "    }\n",
       "</style>\n",
       "<table border=\"1\" class=\"dataframe\">\n",
       "  <thead>\n",
       "    <tr style=\"text-align: right;\">\n",
       "      <th></th>\n",
       "      <th>dateTime</th>\n",
       "      <th>open</th>\n",
       "      <th>high</th>\n",
       "      <th>low</th>\n",
       "      <th>close</th>\n",
       "      <th>volume</th>\n",
       "      <th>date</th>\n",
       "      <th>Date</th>\n",
       "    </tr>\n",
       "  </thead>\n",
       "  <tbody>\n",
       "    <tr>\n",
       "      <th>8549</th>\n",
       "      <td>1628643600000</td>\n",
       "      <td>0.6032</td>\n",
       "      <td>0.6048</td>\n",
       "      <td>0.5991</td>\n",
       "      <td>0.6045</td>\n",
       "      <td>542911.19</td>\n",
       "      <td>2021-08-11 08:00:00</td>\n",
       "      <td>2021-08-11 08:00:00</td>\n",
       "    </tr>\n",
       "    <tr>\n",
       "      <th>8550</th>\n",
       "      <td>1628647200000</td>\n",
       "      <td>0.6049</td>\n",
       "      <td>0.6055</td>\n",
       "      <td>0.5935</td>\n",
       "      <td>0.5975</td>\n",
       "      <td>359518.43</td>\n",
       "      <td>2021-08-11 09:00:00</td>\n",
       "      <td>2021-08-11 09:00:00</td>\n",
       "    </tr>\n",
       "    <tr>\n",
       "      <th>8551</th>\n",
       "      <td>1628650800000</td>\n",
       "      <td>0.5973</td>\n",
       "      <td>0.6090</td>\n",
       "      <td>0.5971</td>\n",
       "      <td>0.6057</td>\n",
       "      <td>364083.77</td>\n",
       "      <td>2021-08-11 10:00:00</td>\n",
       "      <td>2021-08-11 10:00:00</td>\n",
       "    </tr>\n",
       "    <tr>\n",
       "      <th>8552</th>\n",
       "      <td>1628654400000</td>\n",
       "      <td>0.6056</td>\n",
       "      <td>0.6112</td>\n",
       "      <td>0.6000</td>\n",
       "      <td>0.6077</td>\n",
       "      <td>742026.85</td>\n",
       "      <td>2021-08-11 11:00:00</td>\n",
       "      <td>2021-08-11 11:00:00</td>\n",
       "    </tr>\n",
       "    <tr>\n",
       "      <th>8553</th>\n",
       "      <td>1628658000000</td>\n",
       "      <td>0.6073</td>\n",
       "      <td>0.6167</td>\n",
       "      <td>0.6073</td>\n",
       "      <td>0.6137</td>\n",
       "      <td>467214.52</td>\n",
       "      <td>2021-08-11 12:00:00</td>\n",
       "      <td>2021-08-11 12:00:00</td>\n",
       "    </tr>\n",
       "  </tbody>\n",
       "</table>\n",
       "</div>"
      ],
      "text/plain": [
       "           dateTime    open    high     low   close     volume  \\\n",
       "8549  1628643600000  0.6032  0.6048  0.5991  0.6045  542911.19   \n",
       "8550  1628647200000  0.6049  0.6055  0.5935  0.5975  359518.43   \n",
       "8551  1628650800000  0.5973  0.6090  0.5971  0.6057  364083.77   \n",
       "8552  1628654400000  0.6056  0.6112  0.6000  0.6077  742026.85   \n",
       "8553  1628658000000  0.6073  0.6167  0.6073  0.6137  467214.52   \n",
       "\n",
       "                     date                Date  \n",
       "8549  2021-08-11 08:00:00 2021-08-11 08:00:00  \n",
       "8550  2021-08-11 09:00:00 2021-08-11 09:00:00  \n",
       "8551  2021-08-11 10:00:00 2021-08-11 10:00:00  \n",
       "8552  2021-08-11 11:00:00 2021-08-11 11:00:00  \n",
       "8553  2021-08-11 12:00:00 2021-08-11 12:00:00  "
      ]
     },
     "execution_count": 12,
     "metadata": {},
     "output_type": "execute_result"
    }
   ],
   "source": [
    "train.tail()"
   ]
  },
  {
   "cell_type": "code",
   "execution_count": 13,
   "metadata": {},
   "outputs": [
    {
     "data": {
      "text/plain": [
       "<AxesSubplot:title={'center':'ocean Hourly data'}, xlabel='Date'>"
      ]
     },
     "execution_count": 13,
     "metadata": {},
     "output_type": "execute_result"
    },
    {
     "data": {
      "image/png": "[encoded data removed]",
      "text/plain": [
       "<Figure size 432x288 with 1 Axes>"
      ]
     },
     "metadata": {
      "needs_background": "light"
     },
     "output_type": "display_data"
    }
   ],
   "source": [
    "train.plot(x='Date',y='close',title='ocean Hourly data')"
   ]
  },
  {
   "cell_type": "markdown",
   "metadata": {},
   "source": [
    "## Kalman filter\n",
    "\n",
    "Kalman filters are a lightweight algorithm often in an economic context for reducing noise in signals. The Kalman Filter is trained on a subset of the data, and then the parameters are passed into a prediction function for use in subsequent samples. As Kalman filters are one step predictors, at each time step, the filters is retrained and the system state and parameters are updated. \n",
    "\n",
    "This implemention was refined by Andrew Clark in a [recent paper](https://ideas.repec.org/p/rdg/emxxdp/em-dp2020-22.html) that used Kalman filters embedded into a cadCAD model for forecasting exchange rates."
   ]
  },
  {
   "cell_type": "code",
   "execution_count": 14,
   "metadata": {},
   "outputs": [],
   "source": [
    "import pandas as pd\n",
    "import numpy as np\n",
    "from scipy.stats import gamma\n",
    "\n",
    "def kalman_filter(observations,initialValue,truthValues=None,plot=False,paramExport=False):\n",
    "    '''\n",
    "    Description:\n",
    "    Function to create a Kalman Filter for smoothing currency timestamps in order to search for the\n",
    "    intrinisic value.\n",
    "    \n",
    "    Parameters:\n",
    "    observations: Array of observations, i.e. predicted secondary market prices.\n",
    "    initialValue: Initial Starting value of filter\n",
    "    truthValues: Array of truth values, i.e. GPS location or secondary market prices. Or can be left\n",
    "    blank if none exist\n",
    "    plot: If True, plot the observations, truth values and kalman filter.\n",
    "    paramExport: If True, the parameters xhat,P,xhatminus,Pminus,K are returned to use in training.\n",
    "    \n",
    "    Example:\n",
    "    xhat,P,xhatminus,Pminus,K = kalman_filter(observations=train.close.values[0:-1],\n",
    "                                              initialValue=train.close.values[-1],paramExport=True)\n",
    "    '''\n",
    "    # intial parameters\n",
    "    n_iter = len(observations)\n",
    "    sz = (n_iter,) # size of array\n",
    "    if isinstance(truthValues,np.ndarray):\n",
    "        x = truthValues # truth value\n",
    "    z = observations# observations (normal about x, sigma=0.1)\n",
    "\n",
    "    Q = 1e-5 # process variance\n",
    "\n",
    "    # allocate space for arrays\n",
    "    xhat=np.zeros(sz)      # a posteri estimate of x\n",
    "    P=np.zeros(sz)         # a posteri error estimate\n",
    "    xhatminus=np.zeros(sz) # a priori estimate of x\n",
    "    Pminus=np.zeros(sz)    # a priori error estimate\n",
    "    K=np.zeros(sz)         # gain or blending factor\n",
    "\n",
    "    R = 0.5**2 # estimate of measurement variance, change to see effect\n",
    "\n",
    "    # intial guesses\n",
    "    xhat[0] = initialValue\n",
    "    P[0] = 1.0\n",
    "\n",
    "    for k in range(1,n_iter):\n",
    "        # time update\n",
    "        xhatminus[k] = xhat[k-1]\n",
    "        Pminus[k] = P[k-1]+Q\n",
    "\n",
    "        # measurement update\n",
    "        K[k] = Pminus[k]/( Pminus[k]+R )\n",
    "        xhat[k] = xhatminus[k]+K[k]*(z[k]-xhatminus[k])\n",
    "        P[k] = (1-K[k])*Pminus[k]\n",
    "\n",
    "    if plot==True:\n",
    "        plt.figure()\n",
    "        plt.plot(z,'k+',label='Actual data')\n",
    "        plt.plot(xhat,'b-',label='a posteri estimate')\n",
    "        if isinstance(truthValues,np.ndarray):\n",
    "            plt.plot(x,color='g',label='truth value')\n",
    "        plt.legend()\n",
    "        plt.title('Kalman Filter Estimates', fontweight='bold')\n",
    "        plt.xlabel('Iteration')\n",
    "        plt.ylabel('USD')\n",
    "        plt.show()\n",
    "\n",
    "    if paramExport==True:\n",
    "        return  xhat,P,xhatminus,Pminus,K\n",
    "\n",
    "    else:\n",
    "\n",
    "        return xhat\n",
    "\n",
    "def kalman_filter_predict(xhat,P,xhatminus,Pminus,K,observations,truthValues=None,paramExport=False):\n",
    "    '''\n",
    "    Description:\n",
    "    Function to predict a pre-trained Kalman Filter 1 step forward.\n",
    "    \n",
    "    Parameters:\n",
    "    xhat: Trained Kalman filter values - array\n",
    "    P: Trained Kalman variance - array\n",
    "    xhatminus: Trained Kalman xhat delta - array\n",
    "    Pminus: Trained Kalman variance delta - array\n",
    "    K: Kalman gain - array\n",
    "    observations: Array of observations, i.e. predicted secondary market prices.\n",
    "    truthValues: Array of truth values, i.e. GPS location or secondary market prices. Or can be left\n",
    "    blank if none exist\n",
    "    paramExport: If True, the parameters xhat,P,xhatminus,Pminus,K are returned to use in next predicted step.\n",
    "    \n",
    "    Example:\n",
    "    xhat,P,xhatminus,Pminus,K = kalman_filter_predict(xhatInput,PInput,\n",
    "                                                      xhatminusInput,PminusInput,KInput,observation,\n",
    "                                                       paramExport=True)\n",
    "    '''\n",
    "    # intial parameters\n",
    "    if isinstance(truthValues,np.ndarray):\n",
    "        x = truthValues # truth value\n",
    "    z = observations# observations (normal about x, sigma=0.1)\n",
    "\n",
    "    Q = 1e-5 # process variance\n",
    "\n",
    "    R = 0.5**2 # estimate of measurement variance, change to see effect\n",
    "\n",
    "\n",
    "    # time update\n",
    "    xhatminus = np.append(xhatminus,xhat[-1])\n",
    "    Pminus = np.append(Pminus,P[-1]+Q)\n",
    "\n",
    "    # measurement update\n",
    "    K = np.append(K,Pminus[-1]/( Pminus[-1]+R ))\n",
    "    xhat = np.append(xhat,xhatminus[-1]+K[-1]*(z[-1]-xhatminus[-1]))\n",
    "    P = np.append(P,(1-K[-1])*Pminus[-1])\n",
    "\n",
    "    if paramExport==True:\n",
    "        return  xhat,P,xhatminus,Pminus,K\n",
    "\n",
    "    else:\n",
    "\n",
    "        return xhat"
   ]
  },
  {
   "cell_type": "markdown",
   "metadata": {},
   "source": [
    "## Process training\n",
    "\n",
    "Fit the gamma distribution off of the training data."
   ]
  },
  {
   "cell_type": "code",
   "execution_count": 15,
   "metadata": {},
   "outputs": [
    {
     "data": {
      "text/plain": [
       "0.46021406006238436"
      ]
     },
     "execution_count": 15,
     "metadata": {},
     "output_type": "execute_result"
    }
   ],
   "source": [
    "timesteps = 24 * 365 # 24 hours a day * 365 days a year \n",
    "# fit ocean distribution\n",
    "fit_shape, fit_loc, fit_scale = gamma.fit(train.close.values)\n",
    "sample = np.random.gamma(fit_shape, fit_scale, 100)[0]\n",
    "sample"
   ]
  },
  {
   "cell_type": "code",
   "execution_count": 16,
   "metadata": {},
   "outputs": [
    {
     "data": {
      "text/plain": [
       "Text(0.5, 1.0, 'Histogram of ocean Price IID Samples')"
      ]
     },
     "execution_count": 16,
     "metadata": {},
     "output_type": "execute_result"
    },
    {
     "data": {
      "image/png": "[encoded data removed]",
      "text/plain": [
       "<Figure size 432x288 with 1 Axes>"
      ]
     },
     "metadata": {
      "needs_background": "light"
     },
     "output_type": "display_data"
    }
   ],
   "source": [
    "# generate 100 samples for initialization of Kalman\n",
    "samples = np.random.gamma(fit_shape, fit_scale, 100)\n",
    "plt.hist(samples)\n",
    "plt.title('Histogram of ocean Price IID Samples')"
   ]
  },
  {
   "cell_type": "code",
   "execution_count": 17,
   "metadata": {},
   "outputs": [
    {
     "data": {
      "image/png": "[encoded data removed]",
      "text/plain": [
       "<Figure size 432x288 with 1 Axes>"
      ]
     },
     "metadata": {
      "needs_background": "light"
     },
     "output_type": "display_data"
    }
   ],
   "source": [
    "# train kalman\n",
    "xhat,P,xhatminus,Pminus,K = kalman_filter(observations=samples[0:-1],\n",
    "                                          initialValue=samples[-1],paramExport=True,plot=True)"
   ]
  },
  {
   "cell_type": "markdown",
   "metadata": {},
   "source": [
    "## Validation\n",
    "\n",
    "To test how our generator is working, we will make 100 predictions and compare to the test data."
   ]
  },
  {
   "cell_type": "code",
   "execution_count": 18,
   "metadata": {},
   "outputs": [],
   "source": [
    "ocean_values = []\n",
    "filter_values = {'xhat':xhat,'P':P,\n",
    "                 'xhatminus':xhatminus,'Pminus':Pminus,\n",
    "                 'K':K}\n",
    "\n",
    "for i in range(0,100):\n",
    "    sample = np.random.gamma(fit_shape, fit_scale, 1)[0]\n",
    "    ocean_values.append(sample)\n",
    "    xhat,P,xhatminus,Pminus,K = kalman_filter_predict(filter_values['xhat'],\n",
    "                                                  filter_values['P'],\n",
    "                                                  filter_values['xhatminus'],\n",
    "                                                  filter_values['Pminus'],\n",
    "                                                  filter_values['K'],\n",
    "                                                  ocean_values,\n",
    "                                                  paramExport=True)\n",
    "    filter_values = {'xhat':xhat,'P':P,\n",
    "                 'xhatminus':xhatminus,'Pminus':Pminus,\n",
    "                 'K':K}\n",
    "                                                                    "
   ]
  },
  {
   "cell_type": "code",
   "execution_count": 19,
   "metadata": {
    "scrolled": true
   },
   "outputs": [
    {
     "data": {
      "image/png": "[encoded data removed]",
      "text/plain": [
       "<Figure size 432x288 with 1 Axes>"
      ]
     },
     "metadata": {
      "needs_background": "light"
     },
     "output_type": "display_data"
    }
   ],
   "source": [
    "plt.plot(xhat[100:], label = 'Predicted')\n",
    "plt.plot(test.head(100)['close'].values, label = 'Actual')\n",
    "plt.xlabel('Predictions')\n",
    "plt.ylabel('ocean value in USD')\n",
    "# Set a title of the current axes.\n",
    "plt.title('Predicted vs actual')\n",
    "plt.legend()\n",
    "# Display a figure.\n",
    "plt.show()"
   ]
  },
  {
   "cell_type": "markdown",
   "metadata": {},
   "source": [
    "## Generate data for simulation"
   ]
  },
  {
   "cell_type": "code",
   "execution_count": 20,
   "metadata": {},
   "outputs": [
    {
     "data": {
      "image/png": "[encoded data removed]",
      "text/plain": [
       "<Figure size 432x288 with 1 Axes>"
      ]
     },
     "metadata": {
      "needs_background": "light"
     },
     "output_type": "display_data"
    }
   ],
   "source": [
    "samples = np.random.gamma(fit_shape, fit_scale, 100)\n",
    "# train kalman\n",
    "xhat,P,xhatminus,Pminus,K = kalman_filter(observations=samples[0:-1],\n",
    "                                          initialValue=samples[-1],paramExport=True,plot=True)"
   ]
  },
  {
   "cell_type": "code",
   "execution_count": 21,
   "metadata": {},
   "outputs": [],
   "source": [
    "ocean_values = []\n",
    "filter_values = {'xhat':xhat,'P':P,\n",
    "                 'xhatminus':xhatminus,'Pminus':Pminus,\n",
    "                 'K':K}\n",
    "\n",
    "for i in range(0,timesteps+1):\n",
    "    sample = np.random.gamma(fit_shape, fit_scale, 1)[0]\n",
    "    ocean_values.append(sample)\n",
    "    xhat,P,xhatminus,Pminus,K = kalman_filter_predict(filter_values['xhat'],\n",
    "                                                  filter_values['P'],\n",
    "                                                  filter_values['xhatminus'],\n",
    "                                                  filter_values['Pminus'],\n",
    "                                                  filter_values['K'],\n",
    "                                                  ocean_values,\n",
    "                                                  paramExport=True)\n",
    "    filter_values = {'xhat':xhat,'P':P,\n",
    "                 'xhatminus':xhatminus,'Pminus':Pminus,\n",
    "                 'K':K}\n",
    "                                                                    "
   ]
  },
  {
   "cell_type": "code",
   "execution_count": 22,
   "metadata": {},
   "outputs": [
    {
     "data": {
      "text/plain": [
       "Text(0.5, 1.0, 'Histogram of ocean Price IID Samples')"
      ]
     },
     "execution_count": 22,
     "metadata": {},
     "output_type": "execute_result"
    },
    {
     "data": {
      "image/png": "[encoded data removed]",
      "text/plain": [
       "<Figure size 432x288 with 1 Axes>"
      ]
     },
     "metadata": {
      "needs_background": "light"
     },
     "output_type": "display_data"
    }
   ],
   "source": [
    "plt.hist(xhat[100:])\n",
    "plt.title('Histogram of ocean Price IID Samples')"
   ]
  },
  {
   "cell_type": "code",
   "execution_count": 23,
   "metadata": {},
   "outputs": [
    {
     "data": {
      "text/plain": [
       "Text(0.5, 1.0, 'Predicted ocean Prices')"
      ]
     },
     "execution_count": 23,
     "metadata": {},
     "output_type": "execute_result"
    },
    {
     "data": {
      "image/png": "[encoded data removed]",
      "text/plain": [
       "<Figure size 432x288 with 1 Axes>"
      ]
     },
     "metadata": {
      "needs_background": "light"
     },
     "output_type": "display_data"
    }
   ],
   "source": [
    "plt.plot(xhat[100:])\n",
    "plt.title('Predicted ocean Prices')"
   ]
  },
  {
   "cell_type": "code",
   "execution_count": 24,
   "metadata": {},
   "outputs": [
    {
     "data": {
      "text/plain": [
       "8760"
      ]
     },
     "execution_count": 24,
     "metadata": {},
     "output_type": "execute_result"
    }
   ],
   "source": [
    "timesteps"
   ]
  },
  {
   "cell_type": "code",
   "execution_count": 25,
   "metadata": {},
   "outputs": [
    {
     "data": {
      "text/html": [
       "<div>\n",
       "<style scoped>\n",
       "    .dataframe tbody tr th:only-of-type {\n",
       "        vertical-align: middle;\n",
       "    }\n",
       "\n",
       "    .dataframe tbody tr th {\n",
       "        vertical-align: top;\n",
       "    }\n",
       "\n",
       "    .dataframe thead th {\n",
       "        text-align: right;\n",
       "    }\n",
       "</style>\n",
       "<table border=\"1\" class=\"dataframe\">\n",
       "  <thead>\n",
       "    <tr style=\"text-align: right;\">\n",
       "      <th></th>\n",
       "      <th>ocean_price</th>\n",
       "    </tr>\n",
       "  </thead>\n",
       "  <tbody>\n",
       "    <tr>\n",
       "      <th>0</th>\n",
       "      <td>0.115329</td>\n",
       "    </tr>\n",
       "    <tr>\n",
       "      <th>1</th>\n",
       "      <td>0.063901</td>\n",
       "    </tr>\n",
       "    <tr>\n",
       "      <th>2</th>\n",
       "      <td>0.147609</td>\n",
       "    </tr>\n",
       "    <tr>\n",
       "      <th>3</th>\n",
       "      <td>0.452947</td>\n",
       "    </tr>\n",
       "    <tr>\n",
       "      <th>4</th>\n",
       "      <td>0.107366</td>\n",
       "    </tr>\n",
       "  </tbody>\n",
       "</table>\n",
       "</div>"
      ],
      "text/plain": [
       "   ocean_price\n",
       "0     0.115329\n",
       "1     0.063901\n",
       "2     0.147609\n",
       "3     0.452947\n",
       "4     0.107366"
      ]
     },
     "execution_count": 25,
     "metadata": {},
     "output_type": "execute_result"
    }
   ],
   "source": [
    "ocean_prices = pd.DataFrame(ocean_values,columns=['ocean_price'])\n",
    "ocean_prices.head()"
   ]
  },
  {
   "cell_type": "code",
   "execution_count": 26,
   "metadata": {},
   "outputs": [],
   "source": [
    "# export data\n",
    "ocean_prices.to_csv('data/ocean_prices.csv')"
   ]
  },
  {
   "cell_type": "markdown",
   "metadata": {},
   "source": [
    "### Generate Monte Carlo runs"
   ]
  },
  {
   "cell_type": "code",
   "execution_count": 27,
   "metadata": {},
   "outputs": [],
   "source": [
    "def generate_ocean_timeseries(xhat, P, xhatminus, Pminus, K):\n",
    "    ocean_values = []\n",
    "    filter_values = {'xhat':xhat,'P':P,\n",
    "                     'xhatminus':xhatminus,'Pminus':Pminus,\n",
    "                     'K':K}\n",
    "\n",
    "    for i in range(0,timesteps+1):\n",
    "        sample = np.random.gamma(fit_shape, fit_scale, 1)[0]\n",
    "        ocean_values.append(sample)\n",
    "        xhat,P,xhatminus,Pminus,K = kalman_filter_predict(filter_values['xhat'],\n",
    "                                                      filter_values['P'],\n",
    "                                                      filter_values['xhatminus'],\n",
    "                                                      filter_values['Pminus'],\n",
    "                                                      filter_values['K'],\n",
    "                                                      ocean_values,\n",
    "                                                      paramExport=True)\n",
    "        filter_values = {'xhat':xhat,'P':P,\n",
    "                     'xhatminus':xhatminus,'Pminus':Pminus,\n",
    "                     'K':K}\n",
    "\n",
    "    return ocean_values, xhat, P, xhatminus, Pminus, K"
   ]
  },
  {
   "cell_type": "code",
   "execution_count": 28,
   "metadata": {},
   "outputs": [
    {
     "data": {
      "text/html": [
       "<div>\n",
       "<style scoped>\n",
       "    .dataframe tbody tr th:only-of-type {\n",
       "        vertical-align: middle;\n",
       "    }\n",
       "\n",
       "    .dataframe tbody tr th {\n",
       "        vertical-align: top;\n",
       "    }\n",
       "\n",
       "    .dataframe thead th {\n",
       "        text-align: right;\n",
       "    }\n",
       "</style>\n",
       "<table border=\"1\" class=\"dataframe\">\n",
       "  <thead>\n",
       "    <tr style=\"text-align: right;\">\n",
       "      <th></th>\n",
       "      <th>0</th>\n",
       "      <th>1</th>\n",
       "      <th>2</th>\n",
       "      <th>3</th>\n",
       "      <th>4</th>\n",
       "      <th>5</th>\n",
       "      <th>6</th>\n",
       "      <th>7</th>\n",
       "      <th>8</th>\n",
       "      <th>9</th>\n",
       "    </tr>\n",
       "  </thead>\n",
       "  <tbody>\n",
       "    <tr>\n",
       "      <th>0</th>\n",
       "      <td>0.460913</td>\n",
       "      <td>0.450310</td>\n",
       "      <td>0.485700</td>\n",
       "      <td>0.449571</td>\n",
       "      <td>0.475132</td>\n",
       "      <td>0.476378</td>\n",
       "      <td>0.445461</td>\n",
       "      <td>0.418365</td>\n",
       "      <td>0.491949</td>\n",
       "      <td>0.457601</td>\n",
       "    </tr>\n",
       "    <tr>\n",
       "      <th>1</th>\n",
       "      <td>0.456486</td>\n",
       "      <td>0.446131</td>\n",
       "      <td>0.480906</td>\n",
       "      <td>0.454845</td>\n",
       "      <td>0.470040</td>\n",
       "      <td>0.473656</td>\n",
       "      <td>0.444637</td>\n",
       "      <td>0.423590</td>\n",
       "      <td>0.486671</td>\n",
       "      <td>0.459671</td>\n",
       "    </tr>\n",
       "    <tr>\n",
       "      <th>2</th>\n",
       "      <td>0.458147</td>\n",
       "      <td>0.446387</td>\n",
       "      <td>0.478374</td>\n",
       "      <td>0.452651</td>\n",
       "      <td>0.473815</td>\n",
       "      <td>0.473326</td>\n",
       "      <td>0.443916</td>\n",
       "      <td>0.423918</td>\n",
       "      <td>0.484107</td>\n",
       "      <td>0.455352</td>\n",
       "    </tr>\n",
       "    <tr>\n",
       "      <th>3</th>\n",
       "      <td>0.453580</td>\n",
       "      <td>0.444976</td>\n",
       "      <td>0.481708</td>\n",
       "      <td>0.452145</td>\n",
       "      <td>0.471777</td>\n",
       "      <td>0.477931</td>\n",
       "      <td>0.448205</td>\n",
       "      <td>0.420991</td>\n",
       "      <td>0.482765</td>\n",
       "      <td>0.458792</td>\n",
       "    </tr>\n",
       "    <tr>\n",
       "      <th>4</th>\n",
       "      <td>0.449700</td>\n",
       "      <td>0.442137</td>\n",
       "      <td>0.483789</td>\n",
       "      <td>0.451003</td>\n",
       "      <td>0.469611</td>\n",
       "      <td>0.473962</td>\n",
       "      <td>0.448526</td>\n",
       "      <td>0.433730</td>\n",
       "      <td>0.490940</td>\n",
       "      <td>0.454092</td>\n",
       "    </tr>\n",
       "    <tr>\n",
       "      <th>...</th>\n",
       "      <td>...</td>\n",
       "      <td>...</td>\n",
       "      <td>...</td>\n",
       "      <td>...</td>\n",
       "      <td>...</td>\n",
       "      <td>...</td>\n",
       "      <td>...</td>\n",
       "      <td>...</td>\n",
       "      <td>...</td>\n",
       "      <td>...</td>\n",
       "    </tr>\n",
       "    <tr>\n",
       "      <th>8754</th>\n",
       "      <td>0.461374</td>\n",
       "      <td>0.430725</td>\n",
       "      <td>0.437801</td>\n",
       "      <td>0.434572</td>\n",
       "      <td>0.392309</td>\n",
       "      <td>0.440010</td>\n",
       "      <td>0.461728</td>\n",
       "      <td>0.479223</td>\n",
       "      <td>0.459174</td>\n",
       "      <td>0.460664</td>\n",
       "    </tr>\n",
       "    <tr>\n",
       "      <th>8755</th>\n",
       "      <td>0.461473</td>\n",
       "      <td>0.430754</td>\n",
       "      <td>0.438320</td>\n",
       "      <td>0.432151</td>\n",
       "      <td>0.393027</td>\n",
       "      <td>0.446627</td>\n",
       "      <td>0.459572</td>\n",
       "      <td>0.479898</td>\n",
       "      <td>0.460966</td>\n",
       "      <td>0.459269</td>\n",
       "    </tr>\n",
       "    <tr>\n",
       "      <th>8756</th>\n",
       "      <td>0.462008</td>\n",
       "      <td>0.429836</td>\n",
       "      <td>0.438248</td>\n",
       "      <td>0.432366</td>\n",
       "      <td>0.394572</td>\n",
       "      <td>0.445903</td>\n",
       "      <td>0.460990</td>\n",
       "      <td>0.480002</td>\n",
       "      <td>0.458743</td>\n",
       "      <td>0.456987</td>\n",
       "    </tr>\n",
       "    <tr>\n",
       "      <th>8757</th>\n",
       "      <td>0.465966</td>\n",
       "      <td>0.431407</td>\n",
       "      <td>0.440488</td>\n",
       "      <td>0.432474</td>\n",
       "      <td>0.394260</td>\n",
       "      <td>0.444869</td>\n",
       "      <td>0.458831</td>\n",
       "      <td>0.479449</td>\n",
       "      <td>0.460488</td>\n",
       "      <td>0.457547</td>\n",
       "    </tr>\n",
       "    <tr>\n",
       "      <th>8758</th>\n",
       "      <td>0.464264</td>\n",
       "      <td>0.430751</td>\n",
       "      <td>0.438327</td>\n",
       "      <td>0.437956</td>\n",
       "      <td>0.394292</td>\n",
       "      <td>0.442477</td>\n",
       "      <td>0.458881</td>\n",
       "      <td>0.478323</td>\n",
       "      <td>0.458198</td>\n",
       "      <td>0.457699</td>\n",
       "    </tr>\n",
       "  </tbody>\n",
       "</table>\n",
       "<p>8759 rows × 10 columns</p>\n",
       "</div>"
      ],
      "text/plain": [
       "             0         1         2         3         4         5         6  \\\n",
       "0     0.460913  0.450310  0.485700  0.449571  0.475132  0.476378  0.445461   \n",
       "1     0.456486  0.446131  0.480906  0.454845  0.470040  0.473656  0.444637   \n",
       "2     0.458147  0.446387  0.478374  0.452651  0.473815  0.473326  0.443916   \n",
       "3     0.453580  0.444976  0.481708  0.452145  0.471777  0.477931  0.448205   \n",
       "4     0.449700  0.442137  0.483789  0.451003  0.469611  0.473962  0.448526   \n",
       "...        ...       ...       ...       ...       ...       ...       ...   \n",
       "8754  0.461374  0.430725  0.437801  0.434572  0.392309  0.440010  0.461728   \n",
       "8755  0.461473  0.430754  0.438320  0.432151  0.393027  0.446627  0.459572   \n",
       "8756  0.462008  0.429836  0.438248  0.432366  0.394572  0.445903  0.460990   \n",
       "8757  0.465966  0.431407  0.440488  0.432474  0.394260  0.444869  0.458831   \n",
       "8758  0.464264  0.430751  0.438327  0.437956  0.394292  0.442477  0.458881   \n",
       "\n",
       "             7         8         9  \n",
       "0     0.418365  0.491949  0.457601  \n",
       "1     0.423590  0.486671  0.459671  \n",
       "2     0.423918  0.484107  0.455352  \n",
       "3     0.420991  0.482765  0.458792  \n",
       "4     0.433730  0.490940  0.454092  \n",
       "...        ...       ...       ...  \n",
       "8754  0.479223  0.459174  0.460664  \n",
       "8755  0.479898  0.460966  0.459269  \n",
       "8756  0.480002  0.458743  0.456987  \n",
       "8757  0.479449  0.460488  0.457547  \n",
       "8758  0.478323  0.458198  0.457699  \n",
       "\n",
       "[8759 rows x 10 columns]"
      ]
     },
     "execution_count": 28,
     "metadata": {},
     "output_type": "execute_result"
    }
   ],
   "source": [
    "monte_carlo_runs = 10\n",
    "\n",
    "ocean_values_mc = {}\n",
    "for run in range(0, monte_carlo_runs):\n",
    "    np.random.seed(seed=run)\n",
    "    \n",
    "    buffer_for_transcients = 100\n",
    "    samples = np.random.gamma(fit_shape, fit_scale, timesteps + buffer_for_transcients)\n",
    "    # train kalman\n",
    "    xhat,P,xhatminus,Pminus,K = kalman_filter(observations=samples[0:-1],\n",
    "                                              initialValue=samples[-1],paramExport=True,plot=False)\n",
    "    \n",
    "    # ocean_values, _, _, _, _, _ = generate_ocean_timeseries(xhat, P, xhatminus, Pminus, K)\n",
    "    ocean_values_mc[run] = xhat[buffer_for_transcients:]\n",
    "    \n",
    "ocean_values, xhat, P, xhatminus, Pminus, K = generate_ocean_timeseries(xhat, P, xhatminus, Pminus, K)\n",
    "\n",
    "ocean_values_mc_df = pd.DataFrame(ocean_values_mc)\n",
    "ocean_values_mc_df.to_csv('data/ocean_values_mc.csv')\n",
    "ocean_values_mc_df"
   ]
  },
  {
   "cell_type": "markdown",
   "metadata": {},
   "source": [
    "## Conclusion\n",
    "\n",
    "In this notebook, we've read in hourly historical ocean data from kaggle, defined functions for fitting and making predictions off of a gamma distribution, which is comminly used in for random walk calculations, and defined functions for de-noising kalman filter. We then validated the structure of these functions and predicted 100 timesteps for evaluation and demonstration purposes. Finally, we provided an overview of how to fit this code into cadCAD. Next steps could include:\n",
    "* Refining the Kalman filter hyperparameters\n",
    "* Refining the gamma prediction tuning parameter\n",
    "* More thorough model validation\n",
    "* Add seasonality\n",
    "\n"
   ]
  }
 ],
 "metadata": {
  "interpreter": {
   "hash": "70970b7e71d5c76a156d651bd41c1a56f4c32333079f892fd251a1ecb2848dc7"
  },
  "kernelspec": {
   "display_name": "Python (Reflexer)",
   "language": "python",
   "name": "python3"
  },
  "language_info": {
   "codemirror_mode": {
    "name": "ipython",
    "version": 3
   },
   "file_extension": ".py",
   "mimetype": "text/x-python",
   "name": "python",
   "nbconvert_exporter": "python",
   "pygments_lexer": "ipython3",
   "version": "3.8.12"
  }
 },
 "nbformat": 4,
 "nbformat_minor": 4
}
